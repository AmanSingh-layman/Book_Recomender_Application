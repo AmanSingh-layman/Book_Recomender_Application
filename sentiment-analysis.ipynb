{
 "cells": [
  {
   "cell_type": "code",
   "id": "initial_id",
   "metadata": {
    "collapsed": true,
    "ExecuteTime": {
     "end_time": "2025-02-01T04:36:14.590304Z",
     "start_time": "2025-02-01T04:36:08.514429Z"
    }
   },
   "source": [
    "import pandas as pd\n",
    "\n",
    "books = pd.read_csv(\"data_test/books_with_categories.csv\")"
   ],
   "outputs": [],
   "execution_count": 1
  },
  {
   "metadata": {
    "ExecuteTime": {
     "end_time": "2025-02-01T04:49:18.671350Z",
     "start_time": "2025-02-01T04:49:17.783860Z"
    }
   },
   "cell_type": "code",
   "source": [
    "from transformers import pipeline\n",
    "classifier = pipeline(\"text-classification\", model=\"j-hartmann/emotion-english-distilroberta-base\", top_k=None,device=0)\n",
    "classifier(\"I love this!\")"
   ],
   "id": "ecc06e1eb6c1e037",
   "outputs": [
    {
     "name": "stderr",
     "output_type": "stream",
     "text": [
      "Device set to use cpu\n"
     ]
    },
    {
     "data": {
      "text/plain": [
       "[[{'label': 'joy', 'score': 0.9771687984466553},\n",
       "  {'label': 'surprise', 'score': 0.008528691716492176},\n",
       "  {'label': 'neutral', 'score': 0.005764589179307222},\n",
       "  {'label': 'anger', 'score': 0.004419791977852583},\n",
       "  {'label': 'sadness', 'score': 0.002092393347993493},\n",
       "  {'label': 'disgust', 'score': 0.001611992483958602},\n",
       "  {'label': 'fear', 'score': 0.0004138525982853025}]]"
      ]
     },
     "execution_count": 5,
     "metadata": {},
     "output_type": "execute_result"
    }
   ],
   "execution_count": 5
  },
  {
   "metadata": {
    "ExecuteTime": {
     "end_time": "2025-02-01T04:50:12.755329Z",
     "start_time": "2025-02-01T04:50:12.730451Z"
    }
   },
   "cell_type": "code",
   "source": "books[\"description\"][0]",
   "id": "227a25459492bf6b",
   "outputs": [
    {
     "data": {
      "text/plain": [
       "'A NOVEL THAT READERS and critics have been eagerly anticipating for over a decade, Gilead is an astonishingly imagined story of remarkable lives. John Ames is a preacher, the son of a preacher and the grandson (both maternal and paternal) of preachers. It’s 1956 in Gilead, Iowa, towards the end of the Reverend Ames’s life, and he is absorbed in recording his family’s story, a legacy for the young son he will never see grow up. Haunted by his grandfather’s presence, John tells of the rift between his grandfather and his father: the elder, an angry visionary who fought for the abolitionist cause, and his son, an ardent pacifist. He is troubled, too, by his prodigal namesake, Jack (John Ames) Boughton, his best friend’s lost son who returns to Gilead searching for forgiveness and redemption. Told in John Ames’s joyous, rambling voice that finds beauty, humour and truth in the smallest of life’s details, Gilead is a song of celebration and acceptance of the best and the worst the world has to offer. At its heart is a tale of the sacred bonds between fathers and sons, pitch-perfect in style and story, set to dazzle critics and readers alike.'"
      ]
     },
     "execution_count": 6,
     "metadata": {},
     "output_type": "execute_result"
    }
   ],
   "execution_count": 6
  },
  {
   "metadata": {
    "ExecuteTime": {
     "end_time": "2025-02-01T04:51:41.644871Z",
     "start_time": "2025-02-01T04:51:40.919007Z"
    }
   },
   "cell_type": "code",
   "source": "classifier(books[\"description\"][0])",
   "id": "cf9d0c09ecf0816",
   "outputs": [
    {
     "data": {
      "text/plain": [
       "[[{'label': 'fear', 'score': 0.6548399925231934},\n",
       "  {'label': 'neutral', 'score': 0.1698525995016098},\n",
       "  {'label': 'sadness', 'score': 0.11640939861536026},\n",
       "  {'label': 'surprise', 'score': 0.02070068009197712},\n",
       "  {'label': 'disgust', 'score': 0.019100721925497055},\n",
       "  {'label': 'joy', 'score': 0.015161462128162384},\n",
       "  {'label': 'anger', 'score': 0.003935154061764479}]]"
      ]
     },
     "execution_count": 7,
     "metadata": {},
     "output_type": "execute_result"
    }
   ],
   "execution_count": 7
  },
  {
   "metadata": {
    "ExecuteTime": {
     "end_time": "2025-02-01T04:53:28.687608Z",
     "start_time": "2025-02-01T04:53:27.106594Z"
    }
   },
   "cell_type": "code",
   "source": "classifier(books[\"description\"][0].split(\".\"))",
   "id": "abfd33dc2466dee7",
   "outputs": [
    {
     "data": {
      "text/plain": [
       "[[{'label': 'surprise', 'score': 0.7296021580696106},\n",
       "  {'label': 'neutral', 'score': 0.14038598537445068},\n",
       "  {'label': 'fear', 'score': 0.06816227734088898},\n",
       "  {'label': 'joy', 'score': 0.04794260486960411},\n",
       "  {'label': 'anger', 'score': 0.009156367741525173},\n",
       "  {'label': 'disgust', 'score': 0.0026284768246114254},\n",
       "  {'label': 'sadness', 'score': 0.002122163772583008}],\n",
       " [{'label': 'neutral', 'score': 0.4493706524372101},\n",
       "  {'label': 'disgust', 'score': 0.27359113097190857},\n",
       "  {'label': 'joy', 'score': 0.1090831384062767},\n",
       "  {'label': 'sadness', 'score': 0.09362747520208359},\n",
       "  {'label': 'anger', 'score': 0.04047833010554314},\n",
       "  {'label': 'surprise', 'score': 0.02697019837796688},\n",
       "  {'label': 'fear', 'score': 0.006879049818962812}],\n",
       " [{'label': 'neutral', 'score': 0.6462159156799316},\n",
       "  {'label': 'sadness', 'score': 0.242733433842659},\n",
       "  {'label': 'disgust', 'score': 0.043422672897577286},\n",
       "  {'label': 'surprise', 'score': 0.02830057218670845},\n",
       "  {'label': 'joy', 'score': 0.014211490750312805},\n",
       "  {'label': 'fear', 'score': 0.014084091410040855},\n",
       "  {'label': 'anger', 'score': 0.011031905189156532}],\n",
       " [{'label': 'fear', 'score': 0.9281682968139648},\n",
       "  {'label': 'anger', 'score': 0.03219081461429596},\n",
       "  {'label': 'neutral', 'score': 0.012808660045266151},\n",
       "  {'label': 'sadness', 'score': 0.008756875991821289},\n",
       "  {'label': 'surprise', 'score': 0.008597892709076405},\n",
       "  {'label': 'disgust', 'score': 0.008431807160377502},\n",
       "  {'label': 'joy', 'score': 0.0010455832816660404}],\n",
       " [{'label': 'sadness', 'score': 0.9671575427055359},\n",
       "  {'label': 'neutral', 'score': 0.015104148536920547},\n",
       "  {'label': 'disgust', 'score': 0.00648059556260705},\n",
       "  {'label': 'fear', 'score': 0.005393987521529198},\n",
       "  {'label': 'surprise', 'score': 0.0022869398817420006},\n",
       "  {'label': 'anger', 'score': 0.001842890284024179},\n",
       "  {'label': 'joy', 'score': 0.0017338779289275408}],\n",
       " [{'label': 'joy', 'score': 0.9327981472015381},\n",
       "  {'label': 'disgust', 'score': 0.0377170704305172},\n",
       "  {'label': 'neutral', 'score': 0.015891827642917633},\n",
       "  {'label': 'sadness', 'score': 0.006444500293582678},\n",
       "  {'label': 'anger', 'score': 0.005024968180805445},\n",
       "  {'label': 'surprise', 'score': 0.0015812065685167909},\n",
       "  {'label': 'fear', 'score': 0.0005423057009465992}],\n",
       " [{'label': 'joy', 'score': 0.6528705954551697},\n",
       "  {'label': 'neutral', 'score': 0.25427478551864624},\n",
       "  {'label': 'surprise', 'score': 0.06808297336101532},\n",
       "  {'label': 'sadness', 'score': 0.009908991865813732},\n",
       "  {'label': 'disgust', 'score': 0.006512214429676533},\n",
       "  {'label': 'anger', 'score': 0.0048213074915111065},\n",
       "  {'label': 'fear', 'score': 0.003529018023982644}],\n",
       " [{'label': 'neutral', 'score': 0.549476683139801},\n",
       "  {'label': 'sadness', 'score': 0.11169019341468811},\n",
       "  {'label': 'disgust', 'score': 0.10400673747062683},\n",
       "  {'label': 'surprise', 'score': 0.07876546680927277},\n",
       "  {'label': 'anger', 'score': 0.06413363665342331},\n",
       "  {'label': 'fear', 'score': 0.051362838596105576},\n",
       "  {'label': 'joy', 'score': 0.04056441783905029}]]"
      ]
     },
     "execution_count": 8,
     "metadata": {},
     "output_type": "execute_result"
    }
   ],
   "execution_count": 8
  },
  {
   "metadata": {
    "ExecuteTime": {
     "end_time": "2025-02-01T04:57:05.977368Z",
     "start_time": "2025-02-01T04:57:05.527461Z"
    }
   },
   "cell_type": "code",
   "source": [
    "sentences = books[\"description\"][0].split(\".\")\n",
    "predictions = classifier(sentences)"
   ],
   "id": "480c57ab3a7afdb2",
   "outputs": [],
   "execution_count": 9
  },
  {
   "metadata": {
    "ExecuteTime": {
     "end_time": "2025-02-01T04:57:15.875578Z",
     "start_time": "2025-02-01T04:57:15.863933Z"
    }
   },
   "cell_type": "code",
   "source": "sentences[0]",
   "id": "afb63353dda490b9",
   "outputs": [
    {
     "data": {
      "text/plain": [
       "'A NOVEL THAT READERS and critics have been eagerly anticipating for over a decade, Gilead is an astonishingly imagined story of remarkable lives'"
      ]
     },
     "execution_count": 10,
     "metadata": {},
     "output_type": "execute_result"
    }
   ],
   "execution_count": 10
  },
  {
   "metadata": {
    "ExecuteTime": {
     "end_time": "2025-02-01T04:57:29.205466Z",
     "start_time": "2025-02-01T04:57:29.196912Z"
    }
   },
   "cell_type": "code",
   "source": "predictions[0]",
   "id": "e48ea0ff7a738964",
   "outputs": [
    {
     "data": {
      "text/plain": [
       "[{'label': 'surprise', 'score': 0.7296021580696106},\n",
       " {'label': 'neutral', 'score': 0.14038598537445068},\n",
       " {'label': 'fear', 'score': 0.06816227734088898},\n",
       " {'label': 'joy', 'score': 0.04794260486960411},\n",
       " {'label': 'anger', 'score': 0.009156367741525173},\n",
       " {'label': 'disgust', 'score': 0.0026284768246114254},\n",
       " {'label': 'sadness', 'score': 0.002122163772583008}]"
      ]
     },
     "execution_count": 11,
     "metadata": {},
     "output_type": "execute_result"
    }
   ],
   "execution_count": 11
  },
  {
   "metadata": {
    "ExecuteTime": {
     "end_time": "2025-02-01T04:57:46.169876Z",
     "start_time": "2025-02-01T04:57:46.157410Z"
    }
   },
   "cell_type": "code",
   "source": "sentences[5]",
   "id": "179fba60a20d44ca",
   "outputs": [
    {
     "data": {
      "text/plain": [
       "' Told in John Ames’s joyous, rambling voice that finds beauty, humour and truth in the smallest of life’s details, Gilead is a song of celebration and acceptance of the best and the worst the world has to offer'"
      ]
     },
     "execution_count": 12,
     "metadata": {},
     "output_type": "execute_result"
    }
   ],
   "execution_count": 12
  },
  {
   "metadata": {
    "ExecuteTime": {
     "end_time": "2025-02-01T04:57:53.672004Z",
     "start_time": "2025-02-01T04:57:53.661316Z"
    }
   },
   "cell_type": "code",
   "source": "predictions[5]",
   "id": "1f1ecba877ac6ca7",
   "outputs": [
    {
     "data": {
      "text/plain": [
       "[{'label': 'joy', 'score': 0.9327981472015381},\n",
       " {'label': 'disgust', 'score': 0.0377170704305172},\n",
       " {'label': 'neutral', 'score': 0.015891827642917633},\n",
       " {'label': 'sadness', 'score': 0.006444500293582678},\n",
       " {'label': 'anger', 'score': 0.005024968180805445},\n",
       " {'label': 'surprise', 'score': 0.0015812065685167909},\n",
       " {'label': 'fear', 'score': 0.0005423057009465992}]"
      ]
     },
     "execution_count": 13,
     "metadata": {},
     "output_type": "execute_result"
    }
   ],
   "execution_count": 13
  },
  {
   "metadata": {
    "ExecuteTime": {
     "end_time": "2025-02-01T05:01:50.778213Z",
     "start_time": "2025-02-01T05:01:50.753748Z"
    }
   },
   "cell_type": "code",
   "source": "predictions",
   "id": "7dfa855e3b478bf2",
   "outputs": [
    {
     "data": {
      "text/plain": [
       "[[{'label': 'surprise', 'score': 0.7296021580696106},\n",
       "  {'label': 'neutral', 'score': 0.14038598537445068},\n",
       "  {'label': 'fear', 'score': 0.06816227734088898},\n",
       "  {'label': 'joy', 'score': 0.04794260486960411},\n",
       "  {'label': 'anger', 'score': 0.009156367741525173},\n",
       "  {'label': 'disgust', 'score': 0.0026284768246114254},\n",
       "  {'label': 'sadness', 'score': 0.002122163772583008}],\n",
       " [{'label': 'neutral', 'score': 0.4493706524372101},\n",
       "  {'label': 'disgust', 'score': 0.27359113097190857},\n",
       "  {'label': 'joy', 'score': 0.1090831384062767},\n",
       "  {'label': 'sadness', 'score': 0.09362747520208359},\n",
       "  {'label': 'anger', 'score': 0.04047833010554314},\n",
       "  {'label': 'surprise', 'score': 0.02697019837796688},\n",
       "  {'label': 'fear', 'score': 0.006879049818962812}],\n",
       " [{'label': 'neutral', 'score': 0.6462159156799316},\n",
       "  {'label': 'sadness', 'score': 0.242733433842659},\n",
       "  {'label': 'disgust', 'score': 0.043422672897577286},\n",
       "  {'label': 'surprise', 'score': 0.02830057218670845},\n",
       "  {'label': 'joy', 'score': 0.014211490750312805},\n",
       "  {'label': 'fear', 'score': 0.014084091410040855},\n",
       "  {'label': 'anger', 'score': 0.011031905189156532}],\n",
       " [{'label': 'fear', 'score': 0.9281682968139648},\n",
       "  {'label': 'anger', 'score': 0.03219081461429596},\n",
       "  {'label': 'neutral', 'score': 0.012808660045266151},\n",
       "  {'label': 'sadness', 'score': 0.008756875991821289},\n",
       "  {'label': 'surprise', 'score': 0.008597892709076405},\n",
       "  {'label': 'disgust', 'score': 0.008431807160377502},\n",
       "  {'label': 'joy', 'score': 0.0010455832816660404}],\n",
       " [{'label': 'sadness', 'score': 0.9671575427055359},\n",
       "  {'label': 'neutral', 'score': 0.015104148536920547},\n",
       "  {'label': 'disgust', 'score': 0.00648059556260705},\n",
       "  {'label': 'fear', 'score': 0.005393987521529198},\n",
       "  {'label': 'surprise', 'score': 0.0022869398817420006},\n",
       "  {'label': 'anger', 'score': 0.001842890284024179},\n",
       "  {'label': 'joy', 'score': 0.0017338779289275408}],\n",
       " [{'label': 'joy', 'score': 0.9327981472015381},\n",
       "  {'label': 'disgust', 'score': 0.0377170704305172},\n",
       "  {'label': 'neutral', 'score': 0.015891827642917633},\n",
       "  {'label': 'sadness', 'score': 0.006444500293582678},\n",
       "  {'label': 'anger', 'score': 0.005024968180805445},\n",
       "  {'label': 'surprise', 'score': 0.0015812065685167909},\n",
       "  {'label': 'fear', 'score': 0.0005423057009465992}],\n",
       " [{'label': 'joy', 'score': 0.6528705954551697},\n",
       "  {'label': 'neutral', 'score': 0.25427478551864624},\n",
       "  {'label': 'surprise', 'score': 0.06808297336101532},\n",
       "  {'label': 'sadness', 'score': 0.009908991865813732},\n",
       "  {'label': 'disgust', 'score': 0.006512214429676533},\n",
       "  {'label': 'anger', 'score': 0.0048213074915111065},\n",
       "  {'label': 'fear', 'score': 0.003529018023982644}],\n",
       " [{'label': 'neutral', 'score': 0.549476683139801},\n",
       "  {'label': 'sadness', 'score': 0.11169019341468811},\n",
       "  {'label': 'disgust', 'score': 0.10400673747062683},\n",
       "  {'label': 'surprise', 'score': 0.07876546680927277},\n",
       "  {'label': 'anger', 'score': 0.06413363665342331},\n",
       "  {'label': 'fear', 'score': 0.051362838596105576},\n",
       "  {'label': 'joy', 'score': 0.04056441783905029}]]"
      ]
     },
     "execution_count": 14,
     "metadata": {},
     "output_type": "execute_result"
    }
   ],
   "execution_count": 14
  },
  {
   "metadata": {
    "ExecuteTime": {
     "end_time": "2025-02-01T05:02:25.365239Z",
     "start_time": "2025-02-01T05:02:25.340106Z"
    }
   },
   "cell_type": "code",
   "source": "sorted(predictions[0], key=lambda x: x[\"label\"])",
   "id": "65e58d576f7a1b47",
   "outputs": [
    {
     "data": {
      "text/plain": [
       "[{'label': 'anger', 'score': 0.009156367741525173},\n",
       " {'label': 'disgust', 'score': 0.0026284768246114254},\n",
       " {'label': 'fear', 'score': 0.06816227734088898},\n",
       " {'label': 'joy', 'score': 0.04794260486960411},\n",
       " {'label': 'neutral', 'score': 0.14038598537445068},\n",
       " {'label': 'sadness', 'score': 0.002122163772583008},\n",
       " {'label': 'surprise', 'score': 0.7296021580696106}]"
      ]
     },
     "execution_count": 15,
     "metadata": {},
     "output_type": "execute_result"
    }
   ],
   "execution_count": 15
  },
  {
   "metadata": {
    "ExecuteTime": {
     "end_time": "2025-02-01T05:38:45.266510Z",
     "start_time": "2025-02-01T05:38:45.255896Z"
    }
   },
   "cell_type": "code",
   "source": [
    "import numpy as np\n",
    "\n",
    "emotion_labels = [\"anger\",\"disgust\",\"fear\",\"joy\",\"sadness\",\"surprise\",\"neutral\"]\n",
    "isbn = []\n",
    "emotion_scores = {label : [] for label in emotion_labels}\n",
    "\n",
    "def calculate_max_emotion_scores(predictions):\n",
    "    per_emotion_scores = {label : [] for label in emotion_labels}\n",
    "    for prediction in predictions:\n",
    "        sorted_predictions = sorted(prediction, key=lambda x: x[\"label\"])\n",
    "        for index, label in enumerate(emotion_labels):\n",
    "            per_emotion_scores[label].append(sorted_predictions[index][\"score\"])\n",
    "        return {label : np.max(scores) for label, scores in per_emotion_scores.items()}\n",
    "\n"
   ],
   "id": "f5cb36f91b549e08",
   "outputs": [],
   "execution_count": 18
  },
  {
   "metadata": {
    "ExecuteTime": {
     "end_time": "2025-02-01T05:38:50.005483Z",
     "start_time": "2025-02-01T05:38:47.549646Z"
    }
   },
   "cell_type": "code",
   "source": [
    "for i in range(10):\n",
    "    isbn.append(books[\"isbn13\"][i])\n",
    "    sentences =books[\"description\"][i].split(\".\")\n",
    "    predictions = classifier(sentences)\n",
    "    max_scores = calculate_max_emotion_scores(predictions)\n",
    "    for label in emotion_labels:\n",
    "        emotion_scores[label].append(max_scores[label])"
   ],
   "id": "589f95966210b153",
   "outputs": [],
   "execution_count": 19
  },
  {
   "metadata": {
    "ExecuteTime": {
     "end_time": "2025-02-01T05:39:09.434083Z",
     "start_time": "2025-02-01T05:39:09.408468Z"
    }
   },
   "cell_type": "code",
   "source": "emotion_scores",
   "id": "179809239d2c8cfa",
   "outputs": [
    {
     "data": {
      "text/plain": [
       "{'anger': [0.009156367741525173,\n",
       "  0.005966846831142902,\n",
       "  0.04130076617002487,\n",
       "  0.01603621058166027,\n",
       "  0.013624400831758976,\n",
       "  0.009158513508737087,\n",
       "  0.0039738877676427364,\n",
       "  0.023656312376260757,\n",
       "  0.3006698489189148,\n",
       "  0.017658434808254242],\n",
       " 'disgust': [0.0026284768246114254,\n",
       "  0.002887060632929206,\n",
       "  0.024568278342485428,\n",
       "  0.060695115476846695,\n",
       "  0.1222427561879158,\n",
       "  0.012228726409375668,\n",
       "  0.0038164621219038963,\n",
       "  0.009091995656490326,\n",
       "  0.27948102355003357,\n",
       "  0.17792704701423645],\n",
       " 'fear': [0.06816227734088898,\n",
       "  0.003809873480349779,\n",
       "  0.10406068712472916,\n",
       "  0.0016916367458179593,\n",
       "  0.09504342079162598,\n",
       "  0.03679515793919563,\n",
       "  0.0012676783371716738,\n",
       "  0.4044971764087677,\n",
       "  0.08446542918682098,\n",
       "  0.049456942826509476],\n",
       " 'joy': [0.04794260486960411,\n",
       "  0.7044221758842468,\n",
       "  0.7672385573387146,\n",
       "  0.16175726056098938,\n",
       "  0.008335691876709461,\n",
       "  0.04337583854794502,\n",
       "  0.872565746307373,\n",
       "  0.013375178910791874,\n",
       "  0.0013905026717111468,\n",
       "  0.032197803258895874],\n",
       " 'sadness': [0.14038598537445068,\n",
       "  0.21775943040847778,\n",
       "  0.04217580705881119,\n",
       "  0.7326849102973938,\n",
       "  0.27261361479759216,\n",
       "  0.6213918328285217,\n",
       "  0.07678385078907013,\n",
       "  0.2921658754348755,\n",
       "  0.029392044991254807,\n",
       "  0.6624060869216919],\n",
       " 'surprise': [0.002122163772583008,\n",
       "  0.004508520942181349,\n",
       "  0.010859808884561062,\n",
       "  0.020988235250115395,\n",
       "  0.4758801758289337,\n",
       "  0.005146419629454613,\n",
       "  0.004653000272810459,\n",
       "  0.022726494818925858,\n",
       "  0.23277594149112701,\n",
       "  0.013540126383304596],\n",
       " 'neutral': [0.7296021580696106,\n",
       "  0.06064604967832565,\n",
       "  0.009796046651899815,\n",
       "  0.006146568339318037,\n",
       "  0.01225984375923872,\n",
       "  0.27190354466438293,\n",
       "  0.036939412355422974,\n",
       "  0.23448696732521057,\n",
       "  0.07182523608207703,\n",
       "  0.04681358113884926]}"
      ]
     },
     "execution_count": 20,
     "metadata": {},
     "output_type": "execute_result"
    }
   ],
   "execution_count": 20
  },
  {
   "metadata": {
    "ExecuteTime": {
     "end_time": "2025-02-01T06:01:19.575607Z",
     "start_time": "2025-02-01T05:42:34.770118Z"
    }
   },
   "cell_type": "code",
   "source": [
    "from tqdm import tqdm\n",
    "\n",
    "emotion_labels = [\"anger\",\"disgust\",\"fear\",\"joy\",\"sadness\",\"surprise\",\"neutral\"]\n",
    "isbn = []\n",
    "emotion_scores = {label : [] for label in emotion_labels}\n",
    "\n",
    "for i in tqdm(range(len(books))):\n",
    "    isbn.append(books[\"isbn13\"][i])\n",
    "    sentences =books[\"description\"][i].split(\".\")\n",
    "    predictions = classifier(sentences)\n",
    "    max_scores = calculate_max_emotion_scores(predictions)\n",
    "    for label in emotion_labels:\n",
    "        emotion_scores[label].append(max_scores[label])"
   ],
   "id": "ec2337093b33514d",
   "outputs": [
    {
     "name": "stderr",
     "output_type": "stream",
     "text": [
      "100%|██████████| 5197/5197 [18:44<00:00,  4.62it/s]  \n"
     ]
    }
   ],
   "execution_count": 21
  },
  {
   "metadata": {
    "ExecuteTime": {
     "end_time": "2025-02-01T06:01:29.493834Z",
     "start_time": "2025-02-01T06:01:29.377453Z"
    }
   },
   "cell_type": "code",
   "source": [
    "emotions_df = pd.DataFrame(emotion_scores)\n",
    "emotions_df[\"isbn13\"] = isbn"
   ],
   "id": "8120067403828e94",
   "outputs": [],
   "execution_count": 22
  },
  {
   "metadata": {
    "ExecuteTime": {
     "end_time": "2025-02-01T06:01:31.409860Z",
     "start_time": "2025-02-01T06:01:31.304883Z"
    }
   },
   "cell_type": "code",
   "source": "emotions_df",
   "id": "ef01dd8074948037",
   "outputs": [
    {
     "data": {
      "text/plain": [
       "         anger   disgust      fear       joy   sadness  surprise   neutral  \\\n",
       "0     0.009156  0.002628  0.068162  0.047943  0.140386  0.002122  0.729602   \n",
       "1     0.005967  0.002887  0.003810  0.704422  0.217759  0.004509  0.060646   \n",
       "2     0.041301  0.024568  0.104061  0.767239  0.042176  0.010860  0.009796   \n",
       "3     0.016036  0.060695  0.001692  0.161757  0.732685  0.020988  0.006147   \n",
       "4     0.013624  0.122243  0.095043  0.008336  0.272614  0.475880  0.012260   \n",
       "...        ...       ...       ...       ...       ...       ...       ...   \n",
       "5192  0.025156  0.001939  0.094667  0.002254  0.010511  0.857256  0.008218   \n",
       "5193  0.005602  0.003775  0.018216  0.400263  0.338892  0.005487  0.227765   \n",
       "5194  0.008463  0.009146  0.013295  0.620453  0.329753  0.010788  0.008101   \n",
       "5195  0.005475  0.034544  0.003970  0.258354  0.648010  0.017372  0.032275   \n",
       "5196  0.002837  0.003137  0.001166  0.958549  0.028252  0.002916  0.003142   \n",
       "\n",
       "             isbn13  \n",
       "0     9780002005883  \n",
       "1     9780002261982  \n",
       "2     9780006178736  \n",
       "3     9780006280897  \n",
       "4     9780006280934  \n",
       "...             ...  \n",
       "5192  9788172235222  \n",
       "5193  9788173031014  \n",
       "5194  9788179921623  \n",
       "5195  9788185300535  \n",
       "5196  9789027712059  \n",
       "\n",
       "[5197 rows x 8 columns]"
      ],
      "text/html": [
       "<div>\n",
       "<style scoped>\n",
       "    .dataframe tbody tr th:only-of-type {\n",
       "        vertical-align: middle;\n",
       "    }\n",
       "\n",
       "    .dataframe tbody tr th {\n",
       "        vertical-align: top;\n",
       "    }\n",
       "\n",
       "    .dataframe thead th {\n",
       "        text-align: right;\n",
       "    }\n",
       "</style>\n",
       "<table border=\"1\" class=\"dataframe\">\n",
       "  <thead>\n",
       "    <tr style=\"text-align: right;\">\n",
       "      <th></th>\n",
       "      <th>anger</th>\n",
       "      <th>disgust</th>\n",
       "      <th>fear</th>\n",
       "      <th>joy</th>\n",
       "      <th>sadness</th>\n",
       "      <th>surprise</th>\n",
       "      <th>neutral</th>\n",
       "      <th>isbn13</th>\n",
       "    </tr>\n",
       "  </thead>\n",
       "  <tbody>\n",
       "    <tr>\n",
       "      <th>0</th>\n",
       "      <td>0.009156</td>\n",
       "      <td>0.002628</td>\n",
       "      <td>0.068162</td>\n",
       "      <td>0.047943</td>\n",
       "      <td>0.140386</td>\n",
       "      <td>0.002122</td>\n",
       "      <td>0.729602</td>\n",
       "      <td>9780002005883</td>\n",
       "    </tr>\n",
       "    <tr>\n",
       "      <th>1</th>\n",
       "      <td>0.005967</td>\n",
       "      <td>0.002887</td>\n",
       "      <td>0.003810</td>\n",
       "      <td>0.704422</td>\n",
       "      <td>0.217759</td>\n",
       "      <td>0.004509</td>\n",
       "      <td>0.060646</td>\n",
       "      <td>9780002261982</td>\n",
       "    </tr>\n",
       "    <tr>\n",
       "      <th>2</th>\n",
       "      <td>0.041301</td>\n",
       "      <td>0.024568</td>\n",
       "      <td>0.104061</td>\n",
       "      <td>0.767239</td>\n",
       "      <td>0.042176</td>\n",
       "      <td>0.010860</td>\n",
       "      <td>0.009796</td>\n",
       "      <td>9780006178736</td>\n",
       "    </tr>\n",
       "    <tr>\n",
       "      <th>3</th>\n",
       "      <td>0.016036</td>\n",
       "      <td>0.060695</td>\n",
       "      <td>0.001692</td>\n",
       "      <td>0.161757</td>\n",
       "      <td>0.732685</td>\n",
       "      <td>0.020988</td>\n",
       "      <td>0.006147</td>\n",
       "      <td>9780006280897</td>\n",
       "    </tr>\n",
       "    <tr>\n",
       "      <th>4</th>\n",
       "      <td>0.013624</td>\n",
       "      <td>0.122243</td>\n",
       "      <td>0.095043</td>\n",
       "      <td>0.008336</td>\n",
       "      <td>0.272614</td>\n",
       "      <td>0.475880</td>\n",
       "      <td>0.012260</td>\n",
       "      <td>9780006280934</td>\n",
       "    </tr>\n",
       "    <tr>\n",
       "      <th>...</th>\n",
       "      <td>...</td>\n",
       "      <td>...</td>\n",
       "      <td>...</td>\n",
       "      <td>...</td>\n",
       "      <td>...</td>\n",
       "      <td>...</td>\n",
       "      <td>...</td>\n",
       "      <td>...</td>\n",
       "    </tr>\n",
       "    <tr>\n",
       "      <th>5192</th>\n",
       "      <td>0.025156</td>\n",
       "      <td>0.001939</td>\n",
       "      <td>0.094667</td>\n",
       "      <td>0.002254</td>\n",
       "      <td>0.010511</td>\n",
       "      <td>0.857256</td>\n",
       "      <td>0.008218</td>\n",
       "      <td>9788172235222</td>\n",
       "    </tr>\n",
       "    <tr>\n",
       "      <th>5193</th>\n",
       "      <td>0.005602</td>\n",
       "      <td>0.003775</td>\n",
       "      <td>0.018216</td>\n",
       "      <td>0.400263</td>\n",
       "      <td>0.338892</td>\n",
       "      <td>0.005487</td>\n",
       "      <td>0.227765</td>\n",
       "      <td>9788173031014</td>\n",
       "    </tr>\n",
       "    <tr>\n",
       "      <th>5194</th>\n",
       "      <td>0.008463</td>\n",
       "      <td>0.009146</td>\n",
       "      <td>0.013295</td>\n",
       "      <td>0.620453</td>\n",
       "      <td>0.329753</td>\n",
       "      <td>0.010788</td>\n",
       "      <td>0.008101</td>\n",
       "      <td>9788179921623</td>\n",
       "    </tr>\n",
       "    <tr>\n",
       "      <th>5195</th>\n",
       "      <td>0.005475</td>\n",
       "      <td>0.034544</td>\n",
       "      <td>0.003970</td>\n",
       "      <td>0.258354</td>\n",
       "      <td>0.648010</td>\n",
       "      <td>0.017372</td>\n",
       "      <td>0.032275</td>\n",
       "      <td>9788185300535</td>\n",
       "    </tr>\n",
       "    <tr>\n",
       "      <th>5196</th>\n",
       "      <td>0.002837</td>\n",
       "      <td>0.003137</td>\n",
       "      <td>0.001166</td>\n",
       "      <td>0.958549</td>\n",
       "      <td>0.028252</td>\n",
       "      <td>0.002916</td>\n",
       "      <td>0.003142</td>\n",
       "      <td>9789027712059</td>\n",
       "    </tr>\n",
       "  </tbody>\n",
       "</table>\n",
       "<p>5197 rows × 8 columns</p>\n",
       "</div>"
      ]
     },
     "execution_count": 23,
     "metadata": {},
     "output_type": "execute_result"
    }
   ],
   "execution_count": 23
  },
  {
   "metadata": {
    "ExecuteTime": {
     "end_time": "2025-02-01T06:01:52.134737Z",
     "start_time": "2025-02-01T06:01:52.018103Z"
    }
   },
   "cell_type": "code",
   "source": "books = pd.merge(books,emotions_df,on=\"isbn13\")",
   "id": "63b033831ef87eef",
   "outputs": [],
   "execution_count": 24
  },
  {
   "metadata": {
    "ExecuteTime": {
     "end_time": "2025-02-01T06:03:20.089734Z",
     "start_time": "2025-02-01T06:03:20.036859Z"
    }
   },
   "cell_type": "code",
   "source": "books",
   "id": "3a6d5c08f1411d85",
   "outputs": [
    {
     "data": {
      "text/plain": [
       "             isbn13      isbn10  \\\n",
       "0     9780002005883  0002005883   \n",
       "1     9780002261982  0002261987   \n",
       "2     9780006178736  0006178731   \n",
       "3     9780006280897  0006280897   \n",
       "4     9780006280934  0006280935   \n",
       "...             ...         ...   \n",
       "5192  9788172235222  8172235224   \n",
       "5193  9788173031014  8173031010   \n",
       "5194  9788179921623  817992162X   \n",
       "5195  9788185300535  8185300534   \n",
       "5196  9789027712059  9027712050   \n",
       "\n",
       "                                                  title  \\\n",
       "0                                                Gilead   \n",
       "1                                          Spider's Web   \n",
       "2                                        Rage of angels   \n",
       "3                                        The Four Loves   \n",
       "4                                   The Problem of Pain   \n",
       "...                                                 ...   \n",
       "5192                                  Mistaken Identity   \n",
       "5193                                Journey to the East   \n",
       "5194  The Monk Who Sold His Ferrari: A Fable About F...   \n",
       "5195                                          I Am that   \n",
       "5196                           The Berlin Phenomenology   \n",
       "\n",
       "                                           authors  \\\n",
       "0                               Marilynne Robinson   \n",
       "1                  Charles Osborne;Agatha Christie   \n",
       "2                                   Sidney Sheldon   \n",
       "3                              Clive Staples Lewis   \n",
       "4                              Clive Staples Lewis   \n",
       "...                                            ...   \n",
       "5192                              Nayantara Sahgal   \n",
       "5193                                 Hermann Hesse   \n",
       "5194                                  Robin Sharma   \n",
       "5195  Sri Nisargadatta Maharaj;Sudhakar S. Dikshit   \n",
       "5196                 Georg Wilhelm Friedrich Hegel   \n",
       "\n",
       "                         categories  \\\n",
       "0                           Fiction   \n",
       "1     Detective and mystery stories   \n",
       "2                           Fiction   \n",
       "3                    Christian life   \n",
       "4                    Christian life   \n",
       "...                             ...   \n",
       "5192        Indic fiction (English)   \n",
       "5193              Adventure stories   \n",
       "5194               Health & Fitness   \n",
       "5195                     Philosophy   \n",
       "5196                        History   \n",
       "\n",
       "                                              thumbnail  \\\n",
       "0     http://books.google.com/books/content?id=KQZCP...   \n",
       "1     http://books.google.com/books/content?id=gA5GP...   \n",
       "2     http://books.google.com/books/content?id=FKo2T...   \n",
       "3     http://books.google.com/books/content?id=XhQ5X...   \n",
       "4     http://books.google.com/books/content?id=Kk-uV...   \n",
       "...                                                 ...   \n",
       "5192  http://books.google.com/books/content?id=q-tKP...   \n",
       "5193  http://books.google.com/books/content?id=rq6JP...   \n",
       "5194  http://books.google.com/books/content?id=c_7mf...   \n",
       "5195  http://books.google.com/books/content?id=Fv_JP...   \n",
       "5196  http://books.google.com/books/content?id=Vy7Sk...   \n",
       "\n",
       "                                            description  published_year  \\\n",
       "0     A NOVEL THAT READERS and critics have been eag...          2004.0   \n",
       "1     A new 'Christie for Christmas' -- a full-lengt...          2000.0   \n",
       "2     A memorable, mesmerizing heroine Jennifer -- b...          1993.0   \n",
       "3     Lewis' work on the nature of love divides love...          2002.0   \n",
       "4     \"In The Problem of Pain, C.S. Lewis, one of th...          2002.0   \n",
       "...                                                 ...             ...   \n",
       "5192  On A Train Journey Home To North India After L...          2003.0   \n",
       "5193  This book tells the tale of a man who goes on ...          2002.0   \n",
       "5194  Wisdom to Create a Life of Passion, Purpose, a...          2003.0   \n",
       "5195  This collection of the timeless teachings of o...          1999.0   \n",
       "5196  Since the three volume edition ofHegel's Philo...          1981.0   \n",
       "\n",
       "      average_rating  num_pages  ...  \\\n",
       "0               3.85      247.0  ...   \n",
       "1               3.83      241.0  ...   \n",
       "2               3.93      512.0  ...   \n",
       "3               4.15      170.0  ...   \n",
       "4               4.09      176.0  ...   \n",
       "...              ...        ...  ...   \n",
       "5192            2.93      324.0  ...   \n",
       "5193            3.70      175.0  ...   \n",
       "5194            3.82      198.0  ...   \n",
       "5195            4.51      531.0  ...   \n",
       "5196            0.00      210.0  ...   \n",
       "\n",
       "                                     title_and_subtitle  \\\n",
       "0                                                Gilead   \n",
       "1                                 Spider's Web: A Novel   \n",
       "2                                        Rage of angels   \n",
       "3                                        The Four Loves   \n",
       "4                                   The Problem of Pain   \n",
       "...                                                 ...   \n",
       "5192                                  Mistaken Identity   \n",
       "5193                                Journey to the East   \n",
       "5194  The Monk Who Sold His Ferrari: A Fable About F...   \n",
       "5195     I Am that: Talks with Sri Nisargadatta Maharaj   \n",
       "5196                           The Berlin Phenomenology   \n",
       "\n",
       "                                     tagged_description  simple_categories  \\\n",
       "0     9780002005883 A NOVEL THAT READERS and critics...            Fiction   \n",
       "1     9780002261982 A new 'Christie for Christmas' -...            Fiction   \n",
       "2     9780006178736 A memorable, mesmerizing heroine...            Fiction   \n",
       "3     9780006280897 Lewis' work on the nature of lov...         Nonfiction   \n",
       "4     9780006280934 \"In The Problem of Pain, C.S. Le...         Nonfiction   \n",
       "...                                                 ...                ...   \n",
       "5192  9788172235222 On A Train Journey Home To North...            Fiction   \n",
       "5193  9788173031014 This book tells the tale of a ma...         Nonfiction   \n",
       "5194  9788179921623 Wisdom to Create a Life of Passi...            Fiction   \n",
       "5195  9788185300535 This collection of the timeless ...         Nonfiction   \n",
       "5196  9789027712059 Since the three volume edition o...         Nonfiction   \n",
       "\n",
       "         anger   disgust      fear       joy   sadness  surprise   neutral  \n",
       "0     0.009156  0.002628  0.068162  0.047943  0.140386  0.002122  0.729602  \n",
       "1     0.005967  0.002887  0.003810  0.704422  0.217759  0.004509  0.060646  \n",
       "2     0.041301  0.024568  0.104061  0.767239  0.042176  0.010860  0.009796  \n",
       "3     0.016036  0.060695  0.001692  0.161757  0.732685  0.020988  0.006147  \n",
       "4     0.013624  0.122243  0.095043  0.008336  0.272614  0.475880  0.012260  \n",
       "...        ...       ...       ...       ...       ...       ...       ...  \n",
       "5192  0.025156  0.001939  0.094667  0.002254  0.010511  0.857256  0.008218  \n",
       "5193  0.005602  0.003775  0.018216  0.400263  0.338892  0.005487  0.227765  \n",
       "5194  0.008463  0.009146  0.013295  0.620453  0.329753  0.010788  0.008101  \n",
       "5195  0.005475  0.034544  0.003970  0.258354  0.648010  0.017372  0.032275  \n",
       "5196  0.002837  0.003137  0.001166  0.958549  0.028252  0.002916  0.003142  \n",
       "\n",
       "[5197 rows x 23 columns]"
      ],
      "text/html": [
       "<div>\n",
       "<style scoped>\n",
       "    .dataframe tbody tr th:only-of-type {\n",
       "        vertical-align: middle;\n",
       "    }\n",
       "\n",
       "    .dataframe tbody tr th {\n",
       "        vertical-align: top;\n",
       "    }\n",
       "\n",
       "    .dataframe thead th {\n",
       "        text-align: right;\n",
       "    }\n",
       "</style>\n",
       "<table border=\"1\" class=\"dataframe\">\n",
       "  <thead>\n",
       "    <tr style=\"text-align: right;\">\n",
       "      <th></th>\n",
       "      <th>isbn13</th>\n",
       "      <th>isbn10</th>\n",
       "      <th>title</th>\n",
       "      <th>authors</th>\n",
       "      <th>categories</th>\n",
       "      <th>thumbnail</th>\n",
       "      <th>description</th>\n",
       "      <th>published_year</th>\n",
       "      <th>average_rating</th>\n",
       "      <th>num_pages</th>\n",
       "      <th>...</th>\n",
       "      <th>title_and_subtitle</th>\n",
       "      <th>tagged_description</th>\n",
       "      <th>simple_categories</th>\n",
       "      <th>anger</th>\n",
       "      <th>disgust</th>\n",
       "      <th>fear</th>\n",
       "      <th>joy</th>\n",
       "      <th>sadness</th>\n",
       "      <th>surprise</th>\n",
       "      <th>neutral</th>\n",
       "    </tr>\n",
       "  </thead>\n",
       "  <tbody>\n",
       "    <tr>\n",
       "      <th>0</th>\n",
       "      <td>9780002005883</td>\n",
       "      <td>0002005883</td>\n",
       "      <td>Gilead</td>\n",
       "      <td>Marilynne Robinson</td>\n",
       "      <td>Fiction</td>\n",
       "      <td>http://books.google.com/books/content?id=KQZCP...</td>\n",
       "      <td>A NOVEL THAT READERS and critics have been eag...</td>\n",
       "      <td>2004.0</td>\n",
       "      <td>3.85</td>\n",
       "      <td>247.0</td>\n",
       "      <td>...</td>\n",
       "      <td>Gilead</td>\n",
       "      <td>9780002005883 A NOVEL THAT READERS and critics...</td>\n",
       "      <td>Fiction</td>\n",
       "      <td>0.009156</td>\n",
       "      <td>0.002628</td>\n",
       "      <td>0.068162</td>\n",
       "      <td>0.047943</td>\n",
       "      <td>0.140386</td>\n",
       "      <td>0.002122</td>\n",
       "      <td>0.729602</td>\n",
       "    </tr>\n",
       "    <tr>\n",
       "      <th>1</th>\n",
       "      <td>9780002261982</td>\n",
       "      <td>0002261987</td>\n",
       "      <td>Spider's Web</td>\n",
       "      <td>Charles Osborne;Agatha Christie</td>\n",
       "      <td>Detective and mystery stories</td>\n",
       "      <td>http://books.google.com/books/content?id=gA5GP...</td>\n",
       "      <td>A new 'Christie for Christmas' -- a full-lengt...</td>\n",
       "      <td>2000.0</td>\n",
       "      <td>3.83</td>\n",
       "      <td>241.0</td>\n",
       "      <td>...</td>\n",
       "      <td>Spider's Web: A Novel</td>\n",
       "      <td>9780002261982 A new 'Christie for Christmas' -...</td>\n",
       "      <td>Fiction</td>\n",
       "      <td>0.005967</td>\n",
       "      <td>0.002887</td>\n",
       "      <td>0.003810</td>\n",
       "      <td>0.704422</td>\n",
       "      <td>0.217759</td>\n",
       "      <td>0.004509</td>\n",
       "      <td>0.060646</td>\n",
       "    </tr>\n",
       "    <tr>\n",
       "      <th>2</th>\n",
       "      <td>9780006178736</td>\n",
       "      <td>0006178731</td>\n",
       "      <td>Rage of angels</td>\n",
       "      <td>Sidney Sheldon</td>\n",
       "      <td>Fiction</td>\n",
       "      <td>http://books.google.com/books/content?id=FKo2T...</td>\n",
       "      <td>A memorable, mesmerizing heroine Jennifer -- b...</td>\n",
       "      <td>1993.0</td>\n",
       "      <td>3.93</td>\n",
       "      <td>512.0</td>\n",
       "      <td>...</td>\n",
       "      <td>Rage of angels</td>\n",
       "      <td>9780006178736 A memorable, mesmerizing heroine...</td>\n",
       "      <td>Fiction</td>\n",
       "      <td>0.041301</td>\n",
       "      <td>0.024568</td>\n",
       "      <td>0.104061</td>\n",
       "      <td>0.767239</td>\n",
       "      <td>0.042176</td>\n",
       "      <td>0.010860</td>\n",
       "      <td>0.009796</td>\n",
       "    </tr>\n",
       "    <tr>\n",
       "      <th>3</th>\n",
       "      <td>9780006280897</td>\n",
       "      <td>0006280897</td>\n",
       "      <td>The Four Loves</td>\n",
       "      <td>Clive Staples Lewis</td>\n",
       "      <td>Christian life</td>\n",
       "      <td>http://books.google.com/books/content?id=XhQ5X...</td>\n",
       "      <td>Lewis' work on the nature of love divides love...</td>\n",
       "      <td>2002.0</td>\n",
       "      <td>4.15</td>\n",
       "      <td>170.0</td>\n",
       "      <td>...</td>\n",
       "      <td>The Four Loves</td>\n",
       "      <td>9780006280897 Lewis' work on the nature of lov...</td>\n",
       "      <td>Nonfiction</td>\n",
       "      <td>0.016036</td>\n",
       "      <td>0.060695</td>\n",
       "      <td>0.001692</td>\n",
       "      <td>0.161757</td>\n",
       "      <td>0.732685</td>\n",
       "      <td>0.020988</td>\n",
       "      <td>0.006147</td>\n",
       "    </tr>\n",
       "    <tr>\n",
       "      <th>4</th>\n",
       "      <td>9780006280934</td>\n",
       "      <td>0006280935</td>\n",
       "      <td>The Problem of Pain</td>\n",
       "      <td>Clive Staples Lewis</td>\n",
       "      <td>Christian life</td>\n",
       "      <td>http://books.google.com/books/content?id=Kk-uV...</td>\n",
       "      <td>\"In The Problem of Pain, C.S. Lewis, one of th...</td>\n",
       "      <td>2002.0</td>\n",
       "      <td>4.09</td>\n",
       "      <td>176.0</td>\n",
       "      <td>...</td>\n",
       "      <td>The Problem of Pain</td>\n",
       "      <td>9780006280934 \"In The Problem of Pain, C.S. Le...</td>\n",
       "      <td>Nonfiction</td>\n",
       "      <td>0.013624</td>\n",
       "      <td>0.122243</td>\n",
       "      <td>0.095043</td>\n",
       "      <td>0.008336</td>\n",
       "      <td>0.272614</td>\n",
       "      <td>0.475880</td>\n",
       "      <td>0.012260</td>\n",
       "    </tr>\n",
       "    <tr>\n",
       "      <th>...</th>\n",
       "      <td>...</td>\n",
       "      <td>...</td>\n",
       "      <td>...</td>\n",
       "      <td>...</td>\n",
       "      <td>...</td>\n",
       "      <td>...</td>\n",
       "      <td>...</td>\n",
       "      <td>...</td>\n",
       "      <td>...</td>\n",
       "      <td>...</td>\n",
       "      <td>...</td>\n",
       "      <td>...</td>\n",
       "      <td>...</td>\n",
       "      <td>...</td>\n",
       "      <td>...</td>\n",
       "      <td>...</td>\n",
       "      <td>...</td>\n",
       "      <td>...</td>\n",
       "      <td>...</td>\n",
       "      <td>...</td>\n",
       "      <td>...</td>\n",
       "    </tr>\n",
       "    <tr>\n",
       "      <th>5192</th>\n",
       "      <td>9788172235222</td>\n",
       "      <td>8172235224</td>\n",
       "      <td>Mistaken Identity</td>\n",
       "      <td>Nayantara Sahgal</td>\n",
       "      <td>Indic fiction (English)</td>\n",
       "      <td>http://books.google.com/books/content?id=q-tKP...</td>\n",
       "      <td>On A Train Journey Home To North India After L...</td>\n",
       "      <td>2003.0</td>\n",
       "      <td>2.93</td>\n",
       "      <td>324.0</td>\n",
       "      <td>...</td>\n",
       "      <td>Mistaken Identity</td>\n",
       "      <td>9788172235222 On A Train Journey Home To North...</td>\n",
       "      <td>Fiction</td>\n",
       "      <td>0.025156</td>\n",
       "      <td>0.001939</td>\n",
       "      <td>0.094667</td>\n",
       "      <td>0.002254</td>\n",
       "      <td>0.010511</td>\n",
       "      <td>0.857256</td>\n",
       "      <td>0.008218</td>\n",
       "    </tr>\n",
       "    <tr>\n",
       "      <th>5193</th>\n",
       "      <td>9788173031014</td>\n",
       "      <td>8173031010</td>\n",
       "      <td>Journey to the East</td>\n",
       "      <td>Hermann Hesse</td>\n",
       "      <td>Adventure stories</td>\n",
       "      <td>http://books.google.com/books/content?id=rq6JP...</td>\n",
       "      <td>This book tells the tale of a man who goes on ...</td>\n",
       "      <td>2002.0</td>\n",
       "      <td>3.70</td>\n",
       "      <td>175.0</td>\n",
       "      <td>...</td>\n",
       "      <td>Journey to the East</td>\n",
       "      <td>9788173031014 This book tells the tale of a ma...</td>\n",
       "      <td>Nonfiction</td>\n",
       "      <td>0.005602</td>\n",
       "      <td>0.003775</td>\n",
       "      <td>0.018216</td>\n",
       "      <td>0.400263</td>\n",
       "      <td>0.338892</td>\n",
       "      <td>0.005487</td>\n",
       "      <td>0.227765</td>\n",
       "    </tr>\n",
       "    <tr>\n",
       "      <th>5194</th>\n",
       "      <td>9788179921623</td>\n",
       "      <td>817992162X</td>\n",
       "      <td>The Monk Who Sold His Ferrari: A Fable About F...</td>\n",
       "      <td>Robin Sharma</td>\n",
       "      <td>Health &amp; Fitness</td>\n",
       "      <td>http://books.google.com/books/content?id=c_7mf...</td>\n",
       "      <td>Wisdom to Create a Life of Passion, Purpose, a...</td>\n",
       "      <td>2003.0</td>\n",
       "      <td>3.82</td>\n",
       "      <td>198.0</td>\n",
       "      <td>...</td>\n",
       "      <td>The Monk Who Sold His Ferrari: A Fable About F...</td>\n",
       "      <td>9788179921623 Wisdom to Create a Life of Passi...</td>\n",
       "      <td>Fiction</td>\n",
       "      <td>0.008463</td>\n",
       "      <td>0.009146</td>\n",
       "      <td>0.013295</td>\n",
       "      <td>0.620453</td>\n",
       "      <td>0.329753</td>\n",
       "      <td>0.010788</td>\n",
       "      <td>0.008101</td>\n",
       "    </tr>\n",
       "    <tr>\n",
       "      <th>5195</th>\n",
       "      <td>9788185300535</td>\n",
       "      <td>8185300534</td>\n",
       "      <td>I Am that</td>\n",
       "      <td>Sri Nisargadatta Maharaj;Sudhakar S. Dikshit</td>\n",
       "      <td>Philosophy</td>\n",
       "      <td>http://books.google.com/books/content?id=Fv_JP...</td>\n",
       "      <td>This collection of the timeless teachings of o...</td>\n",
       "      <td>1999.0</td>\n",
       "      <td>4.51</td>\n",
       "      <td>531.0</td>\n",
       "      <td>...</td>\n",
       "      <td>I Am that: Talks with Sri Nisargadatta Maharaj</td>\n",
       "      <td>9788185300535 This collection of the timeless ...</td>\n",
       "      <td>Nonfiction</td>\n",
       "      <td>0.005475</td>\n",
       "      <td>0.034544</td>\n",
       "      <td>0.003970</td>\n",
       "      <td>0.258354</td>\n",
       "      <td>0.648010</td>\n",
       "      <td>0.017372</td>\n",
       "      <td>0.032275</td>\n",
       "    </tr>\n",
       "    <tr>\n",
       "      <th>5196</th>\n",
       "      <td>9789027712059</td>\n",
       "      <td>9027712050</td>\n",
       "      <td>The Berlin Phenomenology</td>\n",
       "      <td>Georg Wilhelm Friedrich Hegel</td>\n",
       "      <td>History</td>\n",
       "      <td>http://books.google.com/books/content?id=Vy7Sk...</td>\n",
       "      <td>Since the three volume edition ofHegel's Philo...</td>\n",
       "      <td>1981.0</td>\n",
       "      <td>0.00</td>\n",
       "      <td>210.0</td>\n",
       "      <td>...</td>\n",
       "      <td>The Berlin Phenomenology</td>\n",
       "      <td>9789027712059 Since the three volume edition o...</td>\n",
       "      <td>Nonfiction</td>\n",
       "      <td>0.002837</td>\n",
       "      <td>0.003137</td>\n",
       "      <td>0.001166</td>\n",
       "      <td>0.958549</td>\n",
       "      <td>0.028252</td>\n",
       "      <td>0.002916</td>\n",
       "      <td>0.003142</td>\n",
       "    </tr>\n",
       "  </tbody>\n",
       "</table>\n",
       "<p>5197 rows × 23 columns</p>\n",
       "</div>"
      ]
     },
     "execution_count": 25,
     "metadata": {},
     "output_type": "execute_result"
    }
   ],
   "execution_count": 25
  },
  {
   "metadata": {
    "ExecuteTime": {
     "end_time": "2025-02-01T06:03:55.302986Z",
     "start_time": "2025-02-01T06:03:54.824285Z"
    }
   },
   "cell_type": "code",
   "source": "books.to_csv(\"books_with_emotions.csv\",index=False)",
   "id": "7c6549b9658a8c39",
   "outputs": [],
   "execution_count": 26
  },
  {
   "metadata": {},
   "cell_type": "code",
   "outputs": [],
   "execution_count": null,
   "source": "",
   "id": "cf8768048aa2e842"
  }
 ],
 "metadata": {
  "kernelspec": {
   "display_name": "Python 3",
   "language": "python",
   "name": "python3"
  },
  "language_info": {
   "codemirror_mode": {
    "name": "ipython",
    "version": 2
   },
   "file_extension": ".py",
   "mimetype": "text/x-python",
   "name": "python",
   "nbconvert_exporter": "python",
   "pygments_lexer": "ipython2",
   "version": "2.7.6"
  }
 },
 "nbformat": 4,
 "nbformat_minor": 5
}
